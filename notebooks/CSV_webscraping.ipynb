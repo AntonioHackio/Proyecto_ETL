{
 "cells": [
  {
   "cell_type": "code",
   "execution_count": 1,
   "metadata": {},
   "outputs": [],
   "source": [
    "from selenium import webdriver\n",
    "from selenium.webdriver.common.by import By\n",
    "from selenium.webdriver.support.ui import WebDriverWait\n",
    "from selenium.webdriver.support import expected_conditions as EC\n",
    "from selenium.common.exceptions import NoSuchElementException\n",
    "from time import sleep"
   ]
  },
  {
   "cell_type": "code",
   "execution_count": 2,
   "metadata": {},
   "outputs": [],
   "source": [
    "# Iniciamos el navegador con Selenium\n",
    "driver = webdriver.Chrome()\n",
    "driver.implicitly_wait(10)  # Configuramos un tiempo de espera implícito"
   ]
  },
  {
   "cell_type": "code",
   "execution_count": 3,
   "metadata": {},
   "outputs": [
    {
     "name": "stdout",
     "output_type": "stream",
     "text": [
      "Navegando a: https://es.wikipedia.org/wiki/Inteligencia_artificial\n"
     ]
    }
   ],
   "source": [
    "# URL de Wikipedia\n",
    "url_wikipedia = \"https://es.wikipedia.org/wiki/Inteligencia_artificial\"\n",
    "\n",
    "# Navegamos a la página\n",
    "driver.get(url_wikipedia)\n",
    "print(f\"Navegando a: {url_wikipedia}\")\n",
    "sleep(3)  # Pausa para asegurar que la página cargue completamente"
   ]
  },
  {
   "cell_type": "code",
   "execution_count": 4,
   "metadata": {},
   "outputs": [
    {
     "name": "stdout",
     "output_type": "stream",
     "text": [
      "Título de la página: Inteligencia artificial\n"
     ]
    }
   ],
   "source": [
    "try:\n",
    "    # Encontramos el título por ID\n",
    "    titulo = driver.find_element(By.ID, \"firstHeading\").text\n",
    "    print(f\"Título de la página: {titulo}\")\n",
    "except NoSuchElementException as e:\n",
    "    print(f\"No se pudo encontrar el título: {e}\")"
   ]
  },
  {
   "cell_type": "code",
   "execution_count": 5,
   "metadata": {},
   "outputs": [
    {
     "name": "stdout",
     "output_type": "stream",
     "text": [
      "Párrafo introductorio: La inteligencia artificial (abreviado: IA), en el contexto de las ciencias de la computación, es una disciplina y un conjunto de capacidades cognoscitivas e intelectuales expresadas por sistemas informáticos o combinaciones de algoritmos cuyo propósito es la creación de máquinas que imiten la inteligencia humana para realizar tareas, y que pueden mejorar conforme recopilen información.12 Se hizo presente poco después de la Segunda Guerra Mundial con el desarrollo de la «prueba de Turing», mientras que la locución fue acuñada en 1956 por el informático John McCarthy en la Conferencia de Dartmouth.\n"
     ]
    }
   ],
   "source": [
    "try:\n",
    "    # Encontramos el primer párrafo usando CSS Selector\n",
    "    parrafo = driver.find_element(By.CSS_SELECTOR, \"p\").text\n",
    "    print(f\"Párrafo introductorio: {parrafo}\")\n",
    "except NoSuchElementException as e:\n",
    "    print(f\"No se pudo encontrar el párrafo: {e}\")"
   ]
  },
  {
   "cell_type": "code",
   "execution_count": 6,
   "metadata": {},
   "outputs": [
    {
     "name": "stdout",
     "output_type": "stream",
     "text": [
      "Total de imágenes encontradas: 23\n",
      "Primeras 5 URLs de imágenes:\n",
      "https://es.wikipedia.org/static/images/icons/wikipedia.png\n",
      "https://es.wikipedia.org/static/images/mobile/copyright/wikipedia-wordmark-en.svg\n",
      "https://es.wikipedia.org/static/images/mobile/copyright/wikipedia-tagline-es.svg\n",
      "https://upload.wikimedia.org/wikipedia/commons/2/20/CloseWindow19x19.png\n",
      "https://upload.wikimedia.org/wikipedia/commons/thumb/6/64/Dall-e_3_%28jan_%2724%29_artificial_intelligence_icon.png/220px-Dall-e_3_%28jan_%2724%29_artificial_intelligence_icon.png\n"
     ]
    }
   ],
   "source": [
    "try:\n",
    "    # Encontramos todas las imágenes dentro del contenido principal\n",
    "    imagenes = driver.find_elements(By.CSS_SELECTOR, \"img\")\n",
    "    urls_imagenes = [img.get_attribute(\"src\") for img in imagenes]\n",
    "    print(f\"Total de imágenes encontradas: {len(urls_imagenes)}\")\n",
    "    print(\"Primeras 5 URLs de imágenes:\")\n",
    "    for url in urls_imagenes[:5]:\n",
    "        print(url)\n",
    "except NoSuchElementException as e:\n",
    "    print(f\"No se pudieron encontrar imágenes: {e}\")"
   ]
  },
  {
   "cell_type": "code",
   "execution_count": 7,
   "metadata": {},
   "outputs": [
    {
     "name": "stdout",
     "output_type": "stream",
     "text": [
      "Navegador cerrado.\n"
     ]
    }
   ],
   "source": [
    "# Cerramos el navegador\n",
    "driver.quit()\n",
    "print(\"Navegador cerrado.\")"
   ]
  }
 ],
 "metadata": {
  "kernelspec": {
   "display_name": "venv",
   "language": "python",
   "name": "python3"
  },
  "language_info": {
   "codemirror_mode": {
    "name": "ipython",
    "version": 3
   },
   "file_extension": ".py",
   "mimetype": "text/x-python",
   "name": "python",
   "nbconvert_exporter": "python",
   "pygments_lexer": "ipython3",
   "version": "3.12.5"
  }
 },
 "nbformat": 4,
 "nbformat_minor": 2
}
