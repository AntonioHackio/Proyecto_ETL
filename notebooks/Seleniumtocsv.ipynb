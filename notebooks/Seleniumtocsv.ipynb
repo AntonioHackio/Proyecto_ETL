{
 "cells": [
  {
   "cell_type": "code",
   "execution_count": 245,
   "metadata": {},
   "outputs": [],
   "source": [
    "import pandas as pd\n",
    "from selenium import webdriver\n",
    "from selenium.webdriver.common.by import By\n",
    "from selenium.webdriver.support.ui import WebDriverWait\n",
    "from selenium.webdriver.support import expected_conditions as EC\n",
    "from selenium.common.exceptions import NoSuchElementException\n",
    "from time import sleep"
   ]
  },
  {
   "cell_type": "code",
   "execution_count": 246,
   "metadata": {},
   "outputs": [],
   "source": [
    "driver = webdriver.Chrome()\n",
    "driver.implicitly_wait(10)"
   ]
  },
  {
   "cell_type": "code",
   "execution_count": 247,
   "metadata": {},
   "outputs": [],
   "source": [
    "url_hoteles = \"https://all.accor.com/ssr/app/ibis/hotels/madrid-spain/open/index.es.shtml?compositions=1&stayplus=false&snu=false&hideWDR=false&accessibleRooms=false&hideHotelDetails=false&dateIn=2025-03-01&nights=1&destination=madrid-spain%22\""
   ]
  },
  {
   "cell_type": "code",
   "execution_count": 248,
   "metadata": {},
   "outputs": [
    {
     "name": "stdout",
     "output_type": "stream",
     "text": [
      "Navegando a: https://all.accor.com/ssr/app/ibis/hotels/madrid-spain/open/index.es.shtml?compositions=1&stayplus=false&snu=false&hideWDR=false&accessibleRooms=false&hideHotelDetails=false&dateIn=2025-03-01&nights=1&destination=madrid-spain%22\n"
     ]
    }
   ],
   "source": [
    "driver.get(url_hoteles)\n",
    "print(f\"Navegando a: {url_hoteles}\")\n",
    "sleep(3) "
   ]
  },
  {
   "cell_type": "code",
   "execution_count": 249,
   "metadata": {},
   "outputs": [
    {
     "name": "stdout",
     "output_type": "stream",
     "text": [
      "Error al extraer datos de un hotel: Message: no such element: Unable to locate element: {\"method\":\"xpath\",\"selector\":\".//a[contains(@class, \"title__link\")]\"}\n",
      "  (Session info: chrome=133.0.6943.127); For documentation on this error, please visit: https://www.selenium.dev/documentation/webdriver/troubleshooting/errors#no-such-element-exception\n",
      "Stacktrace:\n",
      "0   chromedriver                        0x0000000104fa2b58 cxxbridge1$str$ptr + 2724820\n",
      "1   chromedriver                        0x0000000104f9b1b8 cxxbridge1$str$ptr + 2693684\n",
      "2   chromedriver                        0x0000000104b01afc cxxbridge1$string$len + 93348\n",
      "3   chromedriver                        0x0000000104b488f8 cxxbridge1$string$len + 383648\n",
      "4   chromedriver                        0x0000000104b3e0bc cxxbridge1$string$len + 340580\n",
      "5   chromedriver                        0x0000000104b89b94 cxxbridge1$string$len + 650556\n",
      "6   chromedriver                        0x0000000104b3cba0 cxxbridge1$string$len + 335176\n",
      "7   chromedriver                        0x0000000104f6b610 cxxbridge1$str$ptr + 2498188\n",
      "8   chromedriver                        0x0000000104f6e924 cxxbridge1$str$ptr + 2511264\n",
      "9   chromedriver                        0x0000000104f50cb0 cxxbridge1$str$ptr + 2389292\n",
      "10  chromedriver                        0x0000000104f6f1cc cxxbridge1$str$ptr + 2513480\n",
      "11  chromedriver                        0x0000000104f41c98 cxxbridge1$str$ptr + 2327828\n",
      "12  chromedriver                        0x0000000104f8b880 cxxbridge1$str$ptr + 2629884\n",
      "13  chromedriver                        0x0000000104f8ba08 cxxbridge1$str$ptr + 2630276\n",
      "14  chromedriver                        0x0000000104f9ae2c cxxbridge1$str$ptr + 2692776\n",
      "15  libsystem_pthread.dylib             0x00000001985fc2e4 _pthread_start + 136\n",
      "16  libsystem_pthread.dylib             0x00000001985f70fc thread_start + 8\n",
      "\n",
      "                                               titulo    estrellas precio\n",
      "0            ibis budget Madrid Calle 30\\n1 Estrellas  4.4/\\nEn\\n5    110\n",
      "1            ibis budget Madrid Calle 30\\n1 Estrellas  4.4/\\nEn\\n5    110\n",
      "2            ibis budget Madrid Calle 30\\n1 Estrellas  4.4/\\nEn\\n5    110\n",
      "3          ibis Madrid Centro las Ventas\\n2 Estrellas  4.5/\\nEn\\n5    172\n",
      "4   ibis budget Madrid Centro las Ventas\\n1 Estrellas  4.3/\\nEn\\n5    119\n",
      "5               ibis Madrid Calle Alcalá\\n1 Estrellas  4.5/\\nEn\\n5    119\n",
      "6            ibis budget Madrid Vallecas\\n1 Estrellas  4.3/\\nEn\\n5    107\n",
      "7                      ibis Madrid Aeropuerto Barajas  4.4/\\nEn\\n5    116\n",
      "8         ibis Madrid Alcorcon Tresaguas\\n2 Estrellas  4.4/\\nEn\\n5     90\n",
      "9          ibis budget Madrid Aeropuerto\\n1 Estrellas    4/\\nEn\\n5    117\n",
      "10                ibis Madrid Alcobendas\\n2 Estrellas  4.4/\\nEn\\n5     86\n",
      "11             ibis budget Madrid Getafe\\n1 Estrellas  4.2/\\nEn\\n5     99\n"
     ]
    }
   ],
   "source": [
    "hoteles_competencia = []\n",
    "hoteles = driver.find_elements(By.XPATH, '//div[contains(@class, \"hotelsList\")]')\n",
    "contador_hoteles = 0\n",
    "limite_hoteles = 20\n",
    "hotel_titulos = set()\n",
    "for hotel in hoteles:\n",
    "    try:\n",
    "\n",
    "        titulo = hotel.find_element(By.XPATH, './/a[contains(@class, \"title__link\")]').text\n",
    "        estrellas = hotel.find_element(By.XPATH, './/span[contains(@class, \"ratings__score\")]').text\n",
    "        precio = hotel.find_element(By.XPATH, './/span[contains(@class, \"booking-price__number mcp-price-number\")]').text\n",
    "        \n",
    "        # Añadir los datos del hotel a la lista\n",
    "        hoteles_competencia.append({\n",
    "            \"titulo\": titulo,\n",
    "            \"estrellas\": estrellas,\n",
    "            \"precio\": precio\n",
    "        })\n",
    "\n",
    "        contador_hoteles += 1\n",
    "        if contador_hoteles == limite_hoteles:\n",
    "            break\n",
    "\n",
    "    except Exception as e:\n",
    "        print(f\"Error al extraer datos de un hotel: {e}\")\n",
    "\n",
    "df_hoteles_competencia = pd.DataFrame(hoteles_competencia)\n",
    "\n",
    "print(df_hoteles_competencia)\n",
    "\n",
    "df_hoteles_competencia.to_csv(\"../data/hoteles_competencia.csv\", index=False)\n",
    "\n",
    "driver.quit()"
   ]
  }
 ],
 "metadata": {
  "kernelspec": {
   "display_name": "venv",
   "language": "python",
   "name": "python3"
  },
  "language_info": {
   "codemirror_mode": {
    "name": "ipython",
    "version": 3
   },
   "file_extension": ".py",
   "mimetype": "text/x-python",
   "name": "python",
   "nbconvert_exporter": "python",
   "pygments_lexer": "ipython3",
   "version": "3.12.5"
  }
 },
 "nbformat": 4,
 "nbformat_minor": 2
}
