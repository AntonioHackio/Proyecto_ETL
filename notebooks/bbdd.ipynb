{
 "cells": [
  {
   "cell_type": "code",
   "execution_count": 1,
   "metadata": {},
   "outputs": [],
   "source": [
    "import pandas as pd\n",
    "import numpy as np\n",
    "import psycopg2 as ps"
   ]
  },
  {
   "cell_type": "code",
   "execution_count": 2,
   "metadata": {},
   "outputs": [],
   "source": [
    "df_ciudad = pd.read_csv('../data/ciudad.csv')\n",
    "df_eventos = pd.read_csv(\"../data/eventos.csv\", parse_dates=['fecha_inicio', 'fecha_fin'])\n",
    "df_hoteles = pd.read_csv('../data/hoteles.csv')\n",
    "df_clientes = pd.read_csv('../data/clientes.csv')\n",
    "df_reservas = pd.read_csv(\"../data/reservas.csv\", parse_dates=['fecha_reserva', 'inicio_estancia', 'final_estancia'])"
   ]
  },
  {
   "cell_type": "code",
   "execution_count": null,
   "metadata": {},
   "outputs": [],
   "source": [
    "df_eventos.duplicated().sum()"
   ]
  },
  {
   "cell_type": "code",
   "execution_count": 4,
   "metadata": {},
   "outputs": [],
   "source": [
    "df_ciudad = df_ciudad.drop_duplicates()\n",
    "df_hoteles = df_hoteles.drop_duplicates()\n",
    "df_clientes = df_clientes.drop_duplicates()"
   ]
  },
  {
   "cell_type": "code",
   "execution_count": null,
   "metadata": {},
   "outputs": [],
   "source": [
    "df_ciudad.duplicated().sum()"
   ]
  },
  {
   "cell_type": "code",
   "execution_count": 27,
   "metadata": {},
   "outputs": [],
   "source": [
    "conn = ps.connect(\n",
    "    dbname=\"proyecto_etl\",\n",
    "    user=\"my_user\",\n",
    "    password=\"admin\",\n",
    "    host=\"localhost\",\n",
    "    port=\"5432\"\n",
    ")"
   ]
  },
  {
   "cell_type": "code",
   "execution_count": 28,
   "metadata": {},
   "outputs": [],
   "source": [
    "cur = conn.cursor()"
   ]
  },
  {
   "cell_type": "code",
   "execution_count": null,
   "metadata": {},
   "outputs": [],
   "source": [
    "cur.execute(\"SELECT version();\")\n",
    "cur.fetchone()"
   ]
  },
  {
   "cell_type": "code",
   "execution_count": 9,
   "metadata": {},
   "outputs": [],
   "source": [
    "# Convertir DataFrame a lista de tuplas\n",
    "#records = df.to_records(index=False)\n",
    "#records_list = list(records)"
   ]
  },
  {
   "cell_type": "code",
   "execution_count": null,
   "metadata": {},
   "outputs": [],
   "source": [
    "df_ciudad.info()"
   ]
  },
  {
   "cell_type": "code",
   "execution_count": 11,
   "metadata": {},
   "outputs": [],
   "source": [
    "d_insert_ciudad = ['Madrid']"
   ]
  },
  {
   "cell_type": "code",
   "execution_count": 12,
   "metadata": {},
   "outputs": [],
   "source": [
    "insert_query = \"\"\"\n",
    "INSERT INTO ciudad (nombre_ciudad) VALUES (%s)\n",
    "\"\"\""
   ]
  },
  {
   "cell_type": "code",
   "execution_count": 13,
   "metadata": {},
   "outputs": [],
   "source": [
    "cur.execute(insert_query, d_insert_ciudad)\n",
    "conn.commit()"
   ]
  },
  {
   "cell_type": "code",
   "execution_count": null,
   "metadata": {},
   "outputs": [],
   "source": [
    "cur.execute('SELECT nombre_ciudad, id_ciudad FROM ciudad')\n",
    "ciudades = dict(cur.fetchall())\n",
    "ciudades"
   ]
  },
  {
   "cell_type": "code",
   "execution_count": null,
   "metadata": {},
   "outputs": [],
   "source": [
    "df_eventos.head(1)"
   ]
  },
  {
   "cell_type": "code",
   "execution_count": 16,
   "metadata": {},
   "outputs": [],
   "source": [
    "d_insert_eventos = []"
   ]
  },
  {
   "cell_type": "code",
   "execution_count": 17,
   "metadata": {},
   "outputs": [],
   "source": [
    "for i, row in df_eventos.iterrows():\n",
    "    id_evento = row['id_evento']\n",
    "    nombre_evento = row['nombre_evento']\n",
    "    url_evento = row['url_evento']\n",
    "    codigo_postal = row['codigo_postal'] if row['codigo_postal'] !=0 else None\n",
    "    direccion = row['direccion'] if pd.notna(row['direccion']) else None\n",
    "    horario = row['horario'] if pd.notna(row['horario']) else None\n",
    "    fecha_inicio = row['fecha_inicio']\n",
    "    fecha_fin = row['fecha_fin']\n",
    "    organizacion = row['organizacion'] if pd.notna(row['organizacion']) else None\n",
    "    id_ciudad = ciudades.get('Madrid')\n",
    "\n",
    "    d_insert_eventos.append((id_evento, nombre_evento, url_evento, codigo_postal, direccion, horario, fecha_inicio, fecha_fin, organizacion, id_ciudad))\n"
   ]
  },
  {
   "cell_type": "code",
   "execution_count": null,
   "metadata": {},
   "outputs": [],
   "source": [
    "d_insert_eventos"
   ]
  },
  {
   "cell_type": "code",
   "execution_count": 19,
   "metadata": {},
   "outputs": [],
   "source": [
    "\n",
    "query_eventos = \"\"\"\n",
    "    INSERT INTO eventos (id_evento, nombre_evento, url_evento, codigo_postal, direccion, horario, fecha_inicio, fecha_fin, organizacion, id_ciudad)\n",
    "    VALUES (%s, %s, %s, %s, %s, %s, %s, %s, %s, %s)\n",
    "\"\"\""
   ]
  },
  {
   "cell_type": "code",
   "execution_count": null,
   "metadata": {},
   "outputs": [],
   "source": [
    "cur.executemany(query_eventos, d_insert_eventos)\n",
    "conn.commit()"
   ]
  },
  {
   "cell_type": "code",
   "execution_count": null,
   "metadata": {},
   "outputs": [],
   "source": [
    "df_hoteles = df_hoteles.rename(columns={\"id_hotel_final\": \"id_hotel\"})\n",
    "df_hoteles['id_hotel'] = [(i + 1) for i in range(len(df_hoteles))]\n",
    "df_hoteles"
   ]
  },
  {
   "cell_type": "code",
   "execution_count": 12,
   "metadata": {},
   "outputs": [],
   "source": [
    "d_insert_hoteles = []"
   ]
  },
  {
   "cell_type": "code",
   "execution_count": null,
   "metadata": {},
   "outputs": [],
   "source": [
    "for i, row in df_hoteles.iterrows():\n",
    "    id_hotel = row['id_hotel']\n",
    "    nombre_hotel = row['nombre_hotel']\n",
    "    competencia = row['competencia']\n",
    "    valoracion = row['valoracion']\n",
    "    id_ciudad = ciudades.get('Madrid')\n",
    "\n",
    "    d_insert_hoteles.append((id_hotel, nombre_hotel, competencia, valoracion, id_ciudad))"
   ]
  },
  {
   "cell_type": "code",
   "execution_count": 16,
   "metadata": {},
   "outputs": [],
   "source": [
    "\n",
    "query_hoteles = \"\"\"\n",
    "    INSERT INTO hoteles (id_hotel, nombre_hotel, competencia, valoracion, id_ciudad)\n",
    "    VALUES (%s, %s, %s, %s, %s)\n",
    "\"\"\""
   ]
  },
  {
   "cell_type": "code",
   "execution_count": 17,
   "metadata": {},
   "outputs": [],
   "source": [
    "cur.executemany(query_hoteles, d_insert_hoteles)\n",
    "conn.commit()"
   ]
  },
  {
   "cell_type": "code",
   "execution_count": 18,
   "metadata": {},
   "outputs": [],
   "source": [
    "d_insert_clientes = []"
   ]
  },
  {
   "cell_type": "code",
   "execution_count": 19,
   "metadata": {},
   "outputs": [],
   "source": [
    "for i, row in df_clientes.iterrows():\n",
    "    id_cliente = row['id_cliente']\n",
    "    nombre = row['nombre']\n",
    "    apellido = row['apellido']\n",
    "    mail = row['mail']\n",
    "\n",
    "    d_insert_clientes.append((id_cliente, nombre, apellido, mail ))"
   ]
  },
  {
   "cell_type": "code",
   "execution_count": 20,
   "metadata": {},
   "outputs": [],
   "source": [
    "query_clientes = \"\"\"\n",
    "    INSERT INTO clientes (id_cliente, nombre, apellido, mail)\n",
    "    VALUES (%s, %s, %s, %s)\n",
    "\"\"\""
   ]
  },
  {
   "cell_type": "code",
   "execution_count": 21,
   "metadata": {},
   "outputs": [],
   "source": [
    "cur.executemany(query_clientes, d_insert_clientes)\n",
    "conn.commit()"
   ]
  },
  {
   "cell_type": "code",
   "execution_count": null,
   "metadata": {},
   "outputs": [],
   "source": [
    "df_reservas"
   ]
  },
  {
   "cell_type": "code",
   "execution_count": 13,
   "metadata": {},
   "outputs": [],
   "source": [
    "df_reservas['id_reserva'] = df_reservas['id_reserva'].str.replace('-', '', regex=False)"
   ]
  },
  {
   "cell_type": "code",
   "execution_count": null,
   "metadata": {},
   "outputs": [],
   "source": [
    "df_reservas['id_hotel'] = df_reservas['id_hotel'].str.extract('(\\d+)').astype(int)"
   ]
  },
  {
   "cell_type": "code",
   "execution_count": null,
   "metadata": {},
   "outputs": [],
   "source": [
    "df_reservas.head(30)"
   ]
  },
  {
   "cell_type": "code",
   "execution_count": 15,
   "metadata": {},
   "outputs": [],
   "source": [
    "d_insert_reservas = []"
   ]
  },
  {
   "cell_type": "code",
   "execution_count": null,
   "metadata": {},
   "outputs": [],
   "source": [
    "hoteles_dict = dict(cur.fetchall())"
   ]
  },
  {
   "cell_type": "code",
   "execution_count": 24,
   "metadata": {},
   "outputs": [],
   "source": [
    "for i, row in df_reservas.iterrows():\n",
    "    id_reserva = row['id_reserva']\n",
    "    fecha_reserva = row['fecha_reserva']\n",
    "    inicio_estancia = row['inicio_estancia']\n",
    "    final_estancia = row['final_estancia']\n",
    "    precio_noche = row['precio_noche']\n",
    "    id_cliente = row['id_cliente']\n",
    "    id_hotel = row['id_hotel'] if row['id_hotel'] == 0 else None\n",
    "\n",
    "    d_insert_reservas.append((id_reserva, fecha_reserva, inicio_estancia, final_estancia, precio_noche, id_cliente, id_hotel))\n"
   ]
  },
  {
   "cell_type": "code",
   "execution_count": 25,
   "metadata": {},
   "outputs": [],
   "source": [
    "query_reservas = \"\"\"\n",
    "    INSERT INTO reservas (id_reserva, fecha_reserva, inicio_estancia, final_estancia, precio_noche, id_cliente, id_hotel)\n",
    "    VALUES (%s, %s, %s, %s, %s, %s, %s)\n",
    "\"\"\""
   ]
  },
  {
   "cell_type": "markdown",
   "metadata": {},
   "source": [
    "Da error al hacer la subida porque poir el tipo de dato que se ha de subir se han modificado los ID de hoteles partiendo de 1 y mas tarde me he dado cuenta de que reservas tenia el antiguo ID, al solucionarlo quitando la palabra ID me he dado cuenta de que partia de cero y la base de datos da error."
   ]
  },
  {
   "cell_type": "code",
   "execution_count": null,
   "metadata": {},
   "outputs": [],
   "source": [
    "cur.executemany(query_reservas, d_insert_reservas)\n",
    "conn.commit()"
   ]
  },
  {
   "cell_type": "code",
   "execution_count": 34,
   "metadata": {},
   "outputs": [],
   "source": [
    "cur.close()\n",
    "conn.close()"
   ]
  }
 ],
 "metadata": {
  "kernelspec": {
   "display_name": "venv",
   "language": "python",
   "name": "python3"
  },
  "language_info": {
   "codemirror_mode": {
    "name": "ipython",
    "version": 3
   },
   "file_extension": ".py",
   "mimetype": "text/x-python",
   "name": "python",
   "nbconvert_exporter": "python",
   "pygments_lexer": "ipython3",
   "version": "3.12.5"
  }
 },
 "nbformat": 4,
 "nbformat_minor": 2
}
