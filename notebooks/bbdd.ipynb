{
 "cells": [
  {
   "cell_type": "code",
   "execution_count": 1,
   "metadata": {},
   "outputs": [],
   "source": [
    "import pandas as pd\n",
    "import numpy as np\n",
    "import psycopg2 as ps"
   ]
  },
  {
   "cell_type": "code",
   "execution_count": 2,
   "metadata": {},
   "outputs": [],
   "source": [
    "df_ciudad = pd.read_csv('../data/ciudad.csv')\n",
    "df_eventos = pd.read_csv(\"../data/eventos.csv\", parse_dates=['fecha_inicio', 'fecha_fin'])\n",
    "df_hoteles = pd.read_csv('../data/hoteles.csv')\n",
    "df_clientes = pd.read_csv('../data/clientes.csv')\n",
    "df_reservas = pd.read_csv(\"../data/reservas.csv\", parse_dates=['fecha_reserva', 'inicio_estancia', 'final_estancia'])"
   ]
  },
  {
   "cell_type": "code",
   "execution_count": 3,
   "metadata": {},
   "outputs": [
    {
     "data": {
      "text/plain": [
       "np.int64(0)"
      ]
     },
     "execution_count": 3,
     "metadata": {},
     "output_type": "execute_result"
    }
   ],
   "source": [
    "df_eventos.duplicated().sum()"
   ]
  },
  {
   "cell_type": "code",
   "execution_count": 4,
   "metadata": {},
   "outputs": [],
   "source": [
    "df_ciudad = df_ciudad.drop_duplicates()\n",
    "df_hoteles = df_hoteles.drop_duplicates()\n",
    "df_clientes = df_clientes.drop_duplicates()"
   ]
  },
  {
   "cell_type": "code",
   "execution_count": 5,
   "metadata": {},
   "outputs": [
    {
     "data": {
      "text/plain": [
       "np.int64(0)"
      ]
     },
     "execution_count": 5,
     "metadata": {},
     "output_type": "execute_result"
    }
   ],
   "source": [
    "df_ciudad.duplicated().sum()"
   ]
  },
  {
   "cell_type": "code",
   "execution_count": 6,
   "metadata": {},
   "outputs": [],
   "source": [
    "conn = ps.connect(\n",
    "    dbname=\"proyecto_etl\",\n",
    "    user=\"my_user\",\n",
    "    password=\"admin\",\n",
    "    host=\"localhost\",\n",
    "    port=\"5432\"\n",
    ")"
   ]
  },
  {
   "cell_type": "code",
   "execution_count": 7,
   "metadata": {},
   "outputs": [],
   "source": [
    "cur = conn.cursor()"
   ]
  },
  {
   "cell_type": "code",
   "execution_count": 8,
   "metadata": {},
   "outputs": [
    {
     "data": {
      "text/plain": [
       "('PostgreSQL 14.13 (Homebrew) on aarch64-apple-darwin23.4.0, compiled by Apple clang version 15.0.0 (clang-1500.3.9.4), 64-bit',)"
      ]
     },
     "execution_count": 8,
     "metadata": {},
     "output_type": "execute_result"
    }
   ],
   "source": [
    "cur.execute(\"SELECT version();\")\n",
    "cur.fetchone()"
   ]
  },
  {
   "cell_type": "code",
   "execution_count": 9,
   "metadata": {},
   "outputs": [],
   "source": [
    "# Convertir DataFrame a lista de tuplas\n",
    "#records = df.to_records(index=False)\n",
    "#records_list = list(records)"
   ]
  },
  {
   "cell_type": "code",
   "execution_count": 9,
   "metadata": {},
   "outputs": [
    {
     "name": "stdout",
     "output_type": "stream",
     "text": [
      "<class 'pandas.core.frame.DataFrame'>\n",
      "Index: 1 entries, 0 to 0\n",
      "Data columns (total 2 columns):\n",
      " #   Column     Non-Null Count  Dtype \n",
      "---  ------     --------------  ----- \n",
      " 0   ciudad     1 non-null      object\n",
      " 1   id_ciudad  1 non-null      int64 \n",
      "dtypes: int64(1), object(1)\n",
      "memory usage: 24.0+ bytes\n"
     ]
    }
   ],
   "source": [
    "df_ciudad.info()"
   ]
  },
  {
   "cell_type": "code",
   "execution_count": 11,
   "metadata": {},
   "outputs": [],
   "source": [
    "d_insert_ciudad = ['Madrid']"
   ]
  },
  {
   "cell_type": "code",
   "execution_count": 12,
   "metadata": {},
   "outputs": [],
   "source": [
    "insert_query = \"\"\"\n",
    "INSERT INTO ciudad (nombre_ciudad) VALUES (%s)\n",
    "\"\"\""
   ]
  },
  {
   "cell_type": "code",
   "execution_count": 13,
   "metadata": {},
   "outputs": [],
   "source": [
    "cur.execute(insert_query, d_insert_ciudad)\n",
    "conn.commit()"
   ]
  },
  {
   "cell_type": "code",
   "execution_count": 10,
   "metadata": {},
   "outputs": [
    {
     "data": {
      "text/plain": [
       "{'Madrid': 1}"
      ]
     },
     "execution_count": 10,
     "metadata": {},
     "output_type": "execute_result"
    }
   ],
   "source": [
    "cur.execute('SELECT nombre_ciudad, id_ciudad FROM ciudad')\n",
    "ciudades = dict(cur.fetchall())\n",
    "ciudades"
   ]
  },
  {
   "cell_type": "code",
   "execution_count": 11,
   "metadata": {},
   "outputs": [
    {
     "data": {
      "text/html": [
       "<div>\n",
       "<style scoped>\n",
       "    .dataframe tbody tr th:only-of-type {\n",
       "        vertical-align: middle;\n",
       "    }\n",
       "\n",
       "    .dataframe tbody tr th {\n",
       "        vertical-align: top;\n",
       "    }\n",
       "\n",
       "    .dataframe thead th {\n",
       "        text-align: right;\n",
       "    }\n",
       "</style>\n",
       "<table border=\"1\" class=\"dataframe\">\n",
       "  <thead>\n",
       "    <tr style=\"text-align: right;\">\n",
       "      <th></th>\n",
       "      <th>id_evento</th>\n",
       "      <th>nombre_evento</th>\n",
       "      <th>url_evento</th>\n",
       "      <th>codigo_postal</th>\n",
       "      <th>direccion</th>\n",
       "      <th>horario</th>\n",
       "      <th>fecha_inicio</th>\n",
       "      <th>fecha_fin</th>\n",
       "      <th>organizacion</th>\n",
       "      <th>id_ciudad</th>\n",
       "    </tr>\n",
       "  </thead>\n",
       "  <tbody>\n",
       "    <tr>\n",
       "      <th>0</th>\n",
       "      <td>1</td>\n",
       "      <td>25º aniversario de la revista La Fragua</td>\n",
       "      <td>http://www.madrid.es/sites/v/index.jsp?vgnextc...</td>\n",
       "      <td>28005</td>\n",
       "      <td>CALLE SAN JUSTO 5</td>\n",
       "      <td>NaN</td>\n",
       "      <td>2025-02-24</td>\n",
       "      <td>2025-03-02</td>\n",
       "      <td>Biblioteca Pública Municipal Iván de Vargas (C...</td>\n",
       "      <td>1</td>\n",
       "    </tr>\n",
       "  </tbody>\n",
       "</table>\n",
       "</div>"
      ],
      "text/plain": [
       "   id_evento                            nombre_evento  \\\n",
       "0          1  25º aniversario de la revista La Fragua   \n",
       "\n",
       "                                          url_evento  codigo_postal  \\\n",
       "0  http://www.madrid.es/sites/v/index.jsp?vgnextc...          28005   \n",
       "\n",
       "           direccion horario fecha_inicio  fecha_fin  \\\n",
       "0  CALLE SAN JUSTO 5     NaN   2025-02-24 2025-03-02   \n",
       "\n",
       "                                        organizacion  id_ciudad  \n",
       "0  Biblioteca Pública Municipal Iván de Vargas (C...          1  "
      ]
     },
     "execution_count": 11,
     "metadata": {},
     "output_type": "execute_result"
    }
   ],
   "source": [
    "df_eventos.head(1)"
   ]
  },
  {
   "cell_type": "code",
   "execution_count": 16,
   "metadata": {},
   "outputs": [],
   "source": [
    "d_insert_eventos = []"
   ]
  },
  {
   "cell_type": "code",
   "execution_count": 17,
   "metadata": {},
   "outputs": [],
   "source": [
    "for i, row in df_eventos.iterrows():\n",
    "    id_evento = row['id_evento']\n",
    "    nombre_evento = row['nombre_evento']\n",
    "    url_evento = row['url_evento']\n",
    "    codigo_postal = row['codigo_postal'] if row['codigo_postal'] !=0 else None\n",
    "    direccion = row['direccion'] if pd.notna(row['direccion']) else None\n",
    "    horario = row['horario'] if pd.notna(row['horario']) else None\n",
    "    fecha_inicio = row['fecha_inicio']\n",
    "    fecha_fin = row['fecha_fin']\n",
    "    organizacion = row['organizacion'] if pd.notna(row['organizacion']) else None\n",
    "    id_ciudad = ciudades.get('Madrid')\n",
    "\n",
    "    d_insert_eventos.append((id_evento, nombre_evento, url_evento, codigo_postal, direccion, horario, fecha_inicio, fecha_fin, organizacion, id_ciudad))\n"
   ]
  },
  {
   "cell_type": "code",
   "execution_count": null,
   "metadata": {},
   "outputs": [],
   "source": [
    "d_insert_eventos"
   ]
  },
  {
   "cell_type": "code",
   "execution_count": 19,
   "metadata": {},
   "outputs": [],
   "source": [
    "\n",
    "query_eventos = \"\"\"\n",
    "    INSERT INTO eventos (id_evento, nombre_evento, url_evento, codigo_postal, direccion, horario, fecha_inicio, fecha_fin, organizacion, id_ciudad)\n",
    "    VALUES (%s, %s, %s, %s, %s, %s, %s, %s, %s, %s)\n",
    "\"\"\""
   ]
  },
  {
   "cell_type": "code",
   "execution_count": null,
   "metadata": {},
   "outputs": [],
   "source": [
    "cur.executemany(query_eventos, d_insert_eventos)\n",
    "conn.commit()"
   ]
  },
  {
   "cell_type": "code",
   "execution_count": null,
   "metadata": {},
   "outputs": [],
   "source": [
    "df_hoteles = df_hoteles.rename(columns={\"id_hotel_final\": \"id_hotel\"})\n",
    "df_hoteles['id_hotel'] = [(i + 1) for i in range(len(df_hoteles))]\n",
    "df_hoteles"
   ]
  },
  {
   "cell_type": "code",
   "execution_count": 12,
   "metadata": {},
   "outputs": [],
   "source": [
    "d_insert_hoteles = []"
   ]
  },
  {
   "cell_type": "code",
   "execution_count": null,
   "metadata": {},
   "outputs": [],
   "source": [
    "for i, row in df_hoteles.iterrows():\n",
    "    id_hotel = row['id_hotel']\n",
    "    nombre_hotel = row['nombre_hotel']\n",
    "    competencia = row['competencia']\n",
    "    valoracion = row['valoracion']\n",
    "    id_ciudad = ciudades.get('Madrid')\n",
    "\n",
    "    d_insert_hoteles.append((id_hotel, nombre_hotel, competencia, valoracion, id_ciudad))"
   ]
  },
  {
   "cell_type": "code",
   "execution_count": 16,
   "metadata": {},
   "outputs": [],
   "source": [
    "\n",
    "query_hoteles = \"\"\"\n",
    "    INSERT INTO hoteles (id_hotel, nombre_hotel, competencia, valoracion, id_ciudad)\n",
    "    VALUES (%s, %s, %s, %s, %s)\n",
    "\"\"\""
   ]
  },
  {
   "cell_type": "code",
   "execution_count": 17,
   "metadata": {},
   "outputs": [],
   "source": [
    "cur.executemany(query_hoteles, d_insert_hoteles)\n",
    "conn.commit()"
   ]
  },
  {
   "cell_type": "code",
   "execution_count": 18,
   "metadata": {},
   "outputs": [],
   "source": [
    "d_insert_clientes = []"
   ]
  },
  {
   "cell_type": "code",
   "execution_count": 19,
   "metadata": {},
   "outputs": [],
   "source": [
    "for i, row in df_clientes.iterrows():\n",
    "    id_cliente = row['id_cliente']\n",
    "    nombre = row['nombre']\n",
    "    apellido = row['apellido']\n",
    "    mail = row['mail']\n",
    "\n",
    "    d_insert_clientes.append((id_cliente, nombre, apellido, mail ))"
   ]
  },
  {
   "cell_type": "code",
   "execution_count": 20,
   "metadata": {},
   "outputs": [],
   "source": [
    "query_clientes = \"\"\"\n",
    "    INSERT INTO clientes (id_cliente, nombre, apellido, mail)\n",
    "    VALUES (%s, %s, %s, %s)\n",
    "\"\"\""
   ]
  },
  {
   "cell_type": "code",
   "execution_count": 21,
   "metadata": {},
   "outputs": [],
   "source": [
    "cur.executemany(query_clientes, d_insert_clientes)\n",
    "conn.commit()"
   ]
  },
  {
   "cell_type": "code",
   "execution_count": 12,
   "metadata": {},
   "outputs": [
    {
     "data": {
      "text/html": [
       "<div>\n",
       "<style scoped>\n",
       "    .dataframe tbody tr th:only-of-type {\n",
       "        vertical-align: middle;\n",
       "    }\n",
       "\n",
       "    .dataframe tbody tr th {\n",
       "        vertical-align: top;\n",
       "    }\n",
       "\n",
       "    .dataframe thead th {\n",
       "        text-align: right;\n",
       "    }\n",
       "</style>\n",
       "<table border=\"1\" class=\"dataframe\">\n",
       "  <thead>\n",
       "    <tr style=\"text-align: right;\">\n",
       "      <th></th>\n",
       "      <th>id_reserva</th>\n",
       "      <th>fecha_reserva</th>\n",
       "      <th>inicio_estancia</th>\n",
       "      <th>final_estancia</th>\n",
       "      <th>precio_noche</th>\n",
       "      <th>id_cliente</th>\n",
       "      <th>id_hotel</th>\n",
       "    </tr>\n",
       "  </thead>\n",
       "  <tbody>\n",
       "    <tr>\n",
       "      <th>0</th>\n",
       "      <td>5256cc90-139b-43d2-8ec5-412495d751cf</td>\n",
       "      <td>2025-02-25</td>\n",
       "      <td>2025-03-01</td>\n",
       "      <td>2025-03-02</td>\n",
       "      <td>110.00</td>\n",
       "      <td>ID0</td>\n",
       "      <td>ID19</td>\n",
       "    </tr>\n",
       "    <tr>\n",
       "      <th>1</th>\n",
       "      <td>84fd6209-bd8d-4a92-bfe6-c68ee2c49271</td>\n",
       "      <td>2025-02-25</td>\n",
       "      <td>2025-03-01</td>\n",
       "      <td>2025-03-02</td>\n",
       "      <td>172.00</td>\n",
       "      <td>ID1</td>\n",
       "      <td>ID20</td>\n",
       "    </tr>\n",
       "    <tr>\n",
       "      <th>2</th>\n",
       "      <td>40c4cb55-d1f5-407b-832f-4756b8ff77b4</td>\n",
       "      <td>2025-02-09</td>\n",
       "      <td>2025-03-01</td>\n",
       "      <td>2025-03-02</td>\n",
       "      <td>119.96</td>\n",
       "      <td>ID2</td>\n",
       "      <td>ID0</td>\n",
       "    </tr>\n",
       "    <tr>\n",
       "      <th>3</th>\n",
       "      <td>f2ce8df5-7844-43e1-8c0f-97ce7a208f21</td>\n",
       "      <td>2025-02-08</td>\n",
       "      <td>2025-03-01</td>\n",
       "      <td>2025-03-02</td>\n",
       "      <td>211.53</td>\n",
       "      <td>ID3</td>\n",
       "      <td>ID1</td>\n",
       "    </tr>\n",
       "    <tr>\n",
       "      <th>4</th>\n",
       "      <td>57d4515a-447d-4067-afcb-9bdcf4e4e915</td>\n",
       "      <td>2025-02-02</td>\n",
       "      <td>2025-03-01</td>\n",
       "      <td>2025-03-02</td>\n",
       "      <td>378.37</td>\n",
       "      <td>ID4</td>\n",
       "      <td>ID2</td>\n",
       "    </tr>\n",
       "    <tr>\n",
       "      <th>...</th>\n",
       "      <td>...</td>\n",
       "      <td>...</td>\n",
       "      <td>...</td>\n",
       "      <td>...</td>\n",
       "      <td>...</td>\n",
       "      <td>...</td>\n",
       "      <td>...</td>\n",
       "    </tr>\n",
       "    <tr>\n",
       "      <th>15093</th>\n",
       "      <td>49c9a352-a260-46fb-9edc-a2c2d05fdfb9</td>\n",
       "      <td>2025-02-02</td>\n",
       "      <td>2025-03-01</td>\n",
       "      <td>2025-03-02</td>\n",
       "      <td>367.65</td>\n",
       "      <td>ID3319</td>\n",
       "      <td>ID7</td>\n",
       "    </tr>\n",
       "    <tr>\n",
       "      <th>15094</th>\n",
       "      <td>f07370e3-feeb-4893-a9ff-4ec4fb518a55</td>\n",
       "      <td>2025-02-07</td>\n",
       "      <td>2025-03-01</td>\n",
       "      <td>2025-03-02</td>\n",
       "      <td>144.35</td>\n",
       "      <td>ID12210</td>\n",
       "      <td>ID8</td>\n",
       "    </tr>\n",
       "    <tr>\n",
       "      <th>15095</th>\n",
       "      <td>1d4b9293-1733-45ce-8a8e-79d3ac4694eb</td>\n",
       "      <td>2025-02-08</td>\n",
       "      <td>2025-03-01</td>\n",
       "      <td>2025-03-02</td>\n",
       "      <td>463.32</td>\n",
       "      <td>ID7154</td>\n",
       "      <td>ID6</td>\n",
       "    </tr>\n",
       "    <tr>\n",
       "      <th>15096</th>\n",
       "      <td>d6823ca7-e236-48b1-bf68-6b88d9b6534a</td>\n",
       "      <td>2025-02-10</td>\n",
       "      <td>2025-03-01</td>\n",
       "      <td>2025-03-02</td>\n",
       "      <td>247.63</td>\n",
       "      <td>ID13301</td>\n",
       "      <td>ID10</td>\n",
       "    </tr>\n",
       "    <tr>\n",
       "      <th>15097</th>\n",
       "      <td>6b26f923-22b2-4de7-b1d5-bce158361dee</td>\n",
       "      <td>2025-02-06</td>\n",
       "      <td>2025-03-01</td>\n",
       "      <td>2025-03-02</td>\n",
       "      <td>433.87</td>\n",
       "      <td>ID2790</td>\n",
       "      <td>ID3</td>\n",
       "    </tr>\n",
       "  </tbody>\n",
       "</table>\n",
       "<p>15098 rows × 7 columns</p>\n",
       "</div>"
      ],
      "text/plain": [
       "                                 id_reserva fecha_reserva inicio_estancia  \\\n",
       "0      5256cc90-139b-43d2-8ec5-412495d751cf    2025-02-25      2025-03-01   \n",
       "1      84fd6209-bd8d-4a92-bfe6-c68ee2c49271    2025-02-25      2025-03-01   \n",
       "2      40c4cb55-d1f5-407b-832f-4756b8ff77b4    2025-02-09      2025-03-01   \n",
       "3      f2ce8df5-7844-43e1-8c0f-97ce7a208f21    2025-02-08      2025-03-01   \n",
       "4      57d4515a-447d-4067-afcb-9bdcf4e4e915    2025-02-02      2025-03-01   \n",
       "...                                     ...           ...             ...   \n",
       "15093  49c9a352-a260-46fb-9edc-a2c2d05fdfb9    2025-02-02      2025-03-01   \n",
       "15094  f07370e3-feeb-4893-a9ff-4ec4fb518a55    2025-02-07      2025-03-01   \n",
       "15095  1d4b9293-1733-45ce-8a8e-79d3ac4694eb    2025-02-08      2025-03-01   \n",
       "15096  d6823ca7-e236-48b1-bf68-6b88d9b6534a    2025-02-10      2025-03-01   \n",
       "15097  6b26f923-22b2-4de7-b1d5-bce158361dee    2025-02-06      2025-03-01   \n",
       "\n",
       "      final_estancia  precio_noche id_cliente id_hotel  \n",
       "0         2025-03-02        110.00        ID0     ID19  \n",
       "1         2025-03-02        172.00        ID1     ID20  \n",
       "2         2025-03-02        119.96        ID2      ID0  \n",
       "3         2025-03-02        211.53        ID3      ID1  \n",
       "4         2025-03-02        378.37        ID4      ID2  \n",
       "...              ...           ...        ...      ...  \n",
       "15093     2025-03-02        367.65     ID3319      ID7  \n",
       "15094     2025-03-02        144.35    ID12210      ID8  \n",
       "15095     2025-03-02        463.32     ID7154      ID6  \n",
       "15096     2025-03-02        247.63    ID13301     ID10  \n",
       "15097     2025-03-02        433.87     ID2790      ID3  \n",
       "\n",
       "[15098 rows x 7 columns]"
      ]
     },
     "execution_count": 12,
     "metadata": {},
     "output_type": "execute_result"
    }
   ],
   "source": [
    "df_reservas"
   ]
  },
  {
   "cell_type": "code",
   "execution_count": 13,
   "metadata": {},
   "outputs": [],
   "source": [
    "df_reservas['id_reserva'] = df_reservas['id_reserva'].str.replace('-', '', regex=False)"
   ]
  },
  {
   "cell_type": "code",
   "execution_count": null,
   "metadata": {},
   "outputs": [],
   "source": [
    "df_reservas['id_hotel'] = df_reservas['id_hotel'].str.extract('(\\d+)').astype(int)"
   ]
  },
  {
   "cell_type": "code",
   "execution_count": 21,
   "metadata": {},
   "outputs": [
    {
     "data": {
      "text/html": [
       "<div>\n",
       "<style scoped>\n",
       "    .dataframe tbody tr th:only-of-type {\n",
       "        vertical-align: middle;\n",
       "    }\n",
       "\n",
       "    .dataframe tbody tr th {\n",
       "        vertical-align: top;\n",
       "    }\n",
       "\n",
       "    .dataframe thead th {\n",
       "        text-align: right;\n",
       "    }\n",
       "</style>\n",
       "<table border=\"1\" class=\"dataframe\">\n",
       "  <thead>\n",
       "    <tr style=\"text-align: right;\">\n",
       "      <th></th>\n",
       "      <th>id_reserva</th>\n",
       "      <th>fecha_reserva</th>\n",
       "      <th>inicio_estancia</th>\n",
       "      <th>final_estancia</th>\n",
       "      <th>precio_noche</th>\n",
       "      <th>id_cliente</th>\n",
       "      <th>id_hotel</th>\n",
       "    </tr>\n",
       "  </thead>\n",
       "  <tbody>\n",
       "    <tr>\n",
       "      <th>0</th>\n",
       "      <td>5256cc90139b43d28ec5412495d751cf</td>\n",
       "      <td>2025-02-25</td>\n",
       "      <td>2025-03-01</td>\n",
       "      <td>2025-03-02</td>\n",
       "      <td>110.00</td>\n",
       "      <td>ID0</td>\n",
       "      <td>19</td>\n",
       "    </tr>\n",
       "    <tr>\n",
       "      <th>1</th>\n",
       "      <td>84fd6209bd8d4a92bfe6c68ee2c49271</td>\n",
       "      <td>2025-02-25</td>\n",
       "      <td>2025-03-01</td>\n",
       "      <td>2025-03-02</td>\n",
       "      <td>172.00</td>\n",
       "      <td>ID1</td>\n",
       "      <td>20</td>\n",
       "    </tr>\n",
       "    <tr>\n",
       "      <th>2</th>\n",
       "      <td>40c4cb55d1f5407b832f4756b8ff77b4</td>\n",
       "      <td>2025-02-09</td>\n",
       "      <td>2025-03-01</td>\n",
       "      <td>2025-03-02</td>\n",
       "      <td>119.96</td>\n",
       "      <td>ID2</td>\n",
       "      <td>0</td>\n",
       "    </tr>\n",
       "    <tr>\n",
       "      <th>3</th>\n",
       "      <td>f2ce8df5784443e18c0f97ce7a208f21</td>\n",
       "      <td>2025-02-08</td>\n",
       "      <td>2025-03-01</td>\n",
       "      <td>2025-03-02</td>\n",
       "      <td>211.53</td>\n",
       "      <td>ID3</td>\n",
       "      <td>1</td>\n",
       "    </tr>\n",
       "    <tr>\n",
       "      <th>4</th>\n",
       "      <td>57d4515a447d4067afcb9bdcf4e4e915</td>\n",
       "      <td>2025-02-02</td>\n",
       "      <td>2025-03-01</td>\n",
       "      <td>2025-03-02</td>\n",
       "      <td>378.37</td>\n",
       "      <td>ID4</td>\n",
       "      <td>2</td>\n",
       "    </tr>\n",
       "    <tr>\n",
       "      <th>5</th>\n",
       "      <td>ccbd9fe95a604f6fbed373a7158ecba7</td>\n",
       "      <td>2025-02-08</td>\n",
       "      <td>2025-03-01</td>\n",
       "      <td>2025-03-02</td>\n",
       "      <td>85.45</td>\n",
       "      <td>ID5</td>\n",
       "      <td>3</td>\n",
       "    </tr>\n",
       "    <tr>\n",
       "      <th>6</th>\n",
       "      <td>99c3dc4f663c45f7849aac9313f3746a</td>\n",
       "      <td>2025-02-09</td>\n",
       "      <td>2025-03-01</td>\n",
       "      <td>2025-03-02</td>\n",
       "      <td>309.80</td>\n",
       "      <td>ID6</td>\n",
       "      <td>4</td>\n",
       "    </tr>\n",
       "    <tr>\n",
       "      <th>7</th>\n",
       "      <td>4d65096e5f124ce79fd6dd20e3cf5194</td>\n",
       "      <td>2025-02-25</td>\n",
       "      <td>2025-03-01</td>\n",
       "      <td>2025-03-02</td>\n",
       "      <td>119.00</td>\n",
       "      <td>ID7</td>\n",
       "      <td>21</td>\n",
       "    </tr>\n",
       "    <tr>\n",
       "      <th>8</th>\n",
       "      <td>a5da09060fe54c30b193863df67a7b84</td>\n",
       "      <td>2025-02-10</td>\n",
       "      <td>2025-03-01</td>\n",
       "      <td>2025-03-02</td>\n",
       "      <td>434.88</td>\n",
       "      <td>ID8</td>\n",
       "      <td>5</td>\n",
       "    </tr>\n",
       "    <tr>\n",
       "      <th>9</th>\n",
       "      <td>458029adcc9b4d858290fec170bcc02d</td>\n",
       "      <td>2025-02-25</td>\n",
       "      <td>2025-03-01</td>\n",
       "      <td>2025-03-02</td>\n",
       "      <td>119.00</td>\n",
       "      <td>ID9</td>\n",
       "      <td>22</td>\n",
       "    </tr>\n",
       "    <tr>\n",
       "      <th>10</th>\n",
       "      <td>3eca014ef12241d79dd3b984b9153d57</td>\n",
       "      <td>2025-02-02</td>\n",
       "      <td>2025-03-01</td>\n",
       "      <td>2025-03-02</td>\n",
       "      <td>216.57</td>\n",
       "      <td>ID10</td>\n",
       "      <td>6</td>\n",
       "    </tr>\n",
       "    <tr>\n",
       "      <th>11</th>\n",
       "      <td>ac0fe86e90a04fe6a02e6ea00e9a8621</td>\n",
       "      <td>2025-02-25</td>\n",
       "      <td>2025-03-01</td>\n",
       "      <td>2025-03-02</td>\n",
       "      <td>107.00</td>\n",
       "      <td>ID11</td>\n",
       "      <td>23</td>\n",
       "    </tr>\n",
       "    <tr>\n",
       "      <th>12</th>\n",
       "      <td>8d2d3ea214bb4762a7a4a44e75d2d2f4</td>\n",
       "      <td>2025-02-25</td>\n",
       "      <td>2025-03-01</td>\n",
       "      <td>2025-03-02</td>\n",
       "      <td>116.00</td>\n",
       "      <td>ID12</td>\n",
       "      <td>24</td>\n",
       "    </tr>\n",
       "    <tr>\n",
       "      <th>13</th>\n",
       "      <td>8a68fb7787984902a92d642ea5e47083</td>\n",
       "      <td>2025-02-10</td>\n",
       "      <td>2025-03-01</td>\n",
       "      <td>2025-03-02</td>\n",
       "      <td>378.10</td>\n",
       "      <td>ID13</td>\n",
       "      <td>7</td>\n",
       "    </tr>\n",
       "    <tr>\n",
       "      <th>14</th>\n",
       "      <td>77354d6e4713496faf21c231b909e29c</td>\n",
       "      <td>2025-02-25</td>\n",
       "      <td>2025-03-01</td>\n",
       "      <td>2025-03-02</td>\n",
       "      <td>119.00</td>\n",
       "      <td>ID14</td>\n",
       "      <td>22</td>\n",
       "    </tr>\n",
       "    <tr>\n",
       "      <th>15</th>\n",
       "      <td>5e3de36b3d2f4cef98d3df826c56a4b1</td>\n",
       "      <td>2025-02-01</td>\n",
       "      <td>2025-03-01</td>\n",
       "      <td>2025-03-02</td>\n",
       "      <td>358.07</td>\n",
       "      <td>ID15</td>\n",
       "      <td>8</td>\n",
       "    </tr>\n",
       "    <tr>\n",
       "      <th>16</th>\n",
       "      <td>f4cf7cbf7a2a4e449b9de2c9a444ec78</td>\n",
       "      <td>2025-02-25</td>\n",
       "      <td>2025-03-01</td>\n",
       "      <td>2025-03-02</td>\n",
       "      <td>90.00</td>\n",
       "      <td>ID16</td>\n",
       "      <td>25</td>\n",
       "    </tr>\n",
       "    <tr>\n",
       "      <th>17</th>\n",
       "      <td>2a39eb83b3aa4df093b31fdc0b0a9609</td>\n",
       "      <td>2025-02-01</td>\n",
       "      <td>2025-03-01</td>\n",
       "      <td>2025-03-02</td>\n",
       "      <td>79.77</td>\n",
       "      <td>ID17</td>\n",
       "      <td>9</td>\n",
       "    </tr>\n",
       "    <tr>\n",
       "      <th>18</th>\n",
       "      <td>96a3727c99fb4ae0a6c3886504499ec2</td>\n",
       "      <td>2025-02-12</td>\n",
       "      <td>2025-03-01</td>\n",
       "      <td>2025-03-02</td>\n",
       "      <td>228.02</td>\n",
       "      <td>ID18</td>\n",
       "      <td>10</td>\n",
       "    </tr>\n",
       "    <tr>\n",
       "      <th>19</th>\n",
       "      <td>18fa5887c1554064ba8d3b2948dd348b</td>\n",
       "      <td>2025-02-11</td>\n",
       "      <td>2025-03-01</td>\n",
       "      <td>2025-03-02</td>\n",
       "      <td>385.24</td>\n",
       "      <td>ID19</td>\n",
       "      <td>2</td>\n",
       "    </tr>\n",
       "    <tr>\n",
       "      <th>20</th>\n",
       "      <td>9880f3eaa29d4acd9fe196df1ffa46bd</td>\n",
       "      <td>2025-02-06</td>\n",
       "      <td>2025-03-01</td>\n",
       "      <td>2025-03-02</td>\n",
       "      <td>454.01</td>\n",
       "      <td>ID20</td>\n",
       "      <td>11</td>\n",
       "    </tr>\n",
       "    <tr>\n",
       "      <th>21</th>\n",
       "      <td>22a3608a1de240c78e2ad22daf77390f</td>\n",
       "      <td>2025-02-02</td>\n",
       "      <td>2025-03-01</td>\n",
       "      <td>2025-03-02</td>\n",
       "      <td>279.28</td>\n",
       "      <td>ID21</td>\n",
       "      <td>4</td>\n",
       "    </tr>\n",
       "    <tr>\n",
       "      <th>22</th>\n",
       "      <td>68b36da9eeaa4c3191a8d34fcc3956c8</td>\n",
       "      <td>2025-02-09</td>\n",
       "      <td>2025-03-01</td>\n",
       "      <td>2025-03-02</td>\n",
       "      <td>332.34</td>\n",
       "      <td>ID22</td>\n",
       "      <td>12</td>\n",
       "    </tr>\n",
       "    <tr>\n",
       "      <th>23</th>\n",
       "      <td>b92dbe7c46604e4c922447cae0152bf9</td>\n",
       "      <td>2025-02-08</td>\n",
       "      <td>2025-03-01</td>\n",
       "      <td>2025-03-02</td>\n",
       "      <td>318.14</td>\n",
       "      <td>ID23</td>\n",
       "      <td>10</td>\n",
       "    </tr>\n",
       "    <tr>\n",
       "      <th>24</th>\n",
       "      <td>9b16fc42a7c64db998c730dbf2bb72b3</td>\n",
       "      <td>2025-02-02</td>\n",
       "      <td>2025-03-01</td>\n",
       "      <td>2025-03-02</td>\n",
       "      <td>437.34</td>\n",
       "      <td>ID24</td>\n",
       "      <td>13</td>\n",
       "    </tr>\n",
       "    <tr>\n",
       "      <th>25</th>\n",
       "      <td>65fcc15ff4c6492ab191f180ae314bea</td>\n",
       "      <td>2025-02-12</td>\n",
       "      <td>2025-03-01</td>\n",
       "      <td>2025-03-02</td>\n",
       "      <td>387.89</td>\n",
       "      <td>ID25</td>\n",
       "      <td>0</td>\n",
       "    </tr>\n",
       "    <tr>\n",
       "      <th>26</th>\n",
       "      <td>8a5b02f8caa94917a50da122c74a5c6d</td>\n",
       "      <td>2025-02-09</td>\n",
       "      <td>2025-03-01</td>\n",
       "      <td>2025-03-02</td>\n",
       "      <td>254.17</td>\n",
       "      <td>ID26</td>\n",
       "      <td>14</td>\n",
       "    </tr>\n",
       "    <tr>\n",
       "      <th>27</th>\n",
       "      <td>24f9a8532cef4fb78182d4f347c772d7</td>\n",
       "      <td>2025-02-03</td>\n",
       "      <td>2025-03-01</td>\n",
       "      <td>2025-03-02</td>\n",
       "      <td>460.67</td>\n",
       "      <td>ID27</td>\n",
       "      <td>3</td>\n",
       "    </tr>\n",
       "    <tr>\n",
       "      <th>28</th>\n",
       "      <td>345b493b5fcb476c940bcce20444d64e</td>\n",
       "      <td>2025-02-05</td>\n",
       "      <td>2025-03-01</td>\n",
       "      <td>2025-03-02</td>\n",
       "      <td>218.25</td>\n",
       "      <td>ID28</td>\n",
       "      <td>7</td>\n",
       "    </tr>\n",
       "    <tr>\n",
       "      <th>29</th>\n",
       "      <td>e9fc009e6bbd49a9aaa1499fbe5b7036</td>\n",
       "      <td>2025-02-11</td>\n",
       "      <td>2025-03-01</td>\n",
       "      <td>2025-03-02</td>\n",
       "      <td>463.31</td>\n",
       "      <td>ID29</td>\n",
       "      <td>0</td>\n",
       "    </tr>\n",
       "  </tbody>\n",
       "</table>\n",
       "</div>"
      ],
      "text/plain": [
       "                          id_reserva fecha_reserva inicio_estancia  \\\n",
       "0   5256cc90139b43d28ec5412495d751cf    2025-02-25      2025-03-01   \n",
       "1   84fd6209bd8d4a92bfe6c68ee2c49271    2025-02-25      2025-03-01   \n",
       "2   40c4cb55d1f5407b832f4756b8ff77b4    2025-02-09      2025-03-01   \n",
       "3   f2ce8df5784443e18c0f97ce7a208f21    2025-02-08      2025-03-01   \n",
       "4   57d4515a447d4067afcb9bdcf4e4e915    2025-02-02      2025-03-01   \n",
       "5   ccbd9fe95a604f6fbed373a7158ecba7    2025-02-08      2025-03-01   \n",
       "6   99c3dc4f663c45f7849aac9313f3746a    2025-02-09      2025-03-01   \n",
       "7   4d65096e5f124ce79fd6dd20e3cf5194    2025-02-25      2025-03-01   \n",
       "8   a5da09060fe54c30b193863df67a7b84    2025-02-10      2025-03-01   \n",
       "9   458029adcc9b4d858290fec170bcc02d    2025-02-25      2025-03-01   \n",
       "10  3eca014ef12241d79dd3b984b9153d57    2025-02-02      2025-03-01   \n",
       "11  ac0fe86e90a04fe6a02e6ea00e9a8621    2025-02-25      2025-03-01   \n",
       "12  8d2d3ea214bb4762a7a4a44e75d2d2f4    2025-02-25      2025-03-01   \n",
       "13  8a68fb7787984902a92d642ea5e47083    2025-02-10      2025-03-01   \n",
       "14  77354d6e4713496faf21c231b909e29c    2025-02-25      2025-03-01   \n",
       "15  5e3de36b3d2f4cef98d3df826c56a4b1    2025-02-01      2025-03-01   \n",
       "16  f4cf7cbf7a2a4e449b9de2c9a444ec78    2025-02-25      2025-03-01   \n",
       "17  2a39eb83b3aa4df093b31fdc0b0a9609    2025-02-01      2025-03-01   \n",
       "18  96a3727c99fb4ae0a6c3886504499ec2    2025-02-12      2025-03-01   \n",
       "19  18fa5887c1554064ba8d3b2948dd348b    2025-02-11      2025-03-01   \n",
       "20  9880f3eaa29d4acd9fe196df1ffa46bd    2025-02-06      2025-03-01   \n",
       "21  22a3608a1de240c78e2ad22daf77390f    2025-02-02      2025-03-01   \n",
       "22  68b36da9eeaa4c3191a8d34fcc3956c8    2025-02-09      2025-03-01   \n",
       "23  b92dbe7c46604e4c922447cae0152bf9    2025-02-08      2025-03-01   \n",
       "24  9b16fc42a7c64db998c730dbf2bb72b3    2025-02-02      2025-03-01   \n",
       "25  65fcc15ff4c6492ab191f180ae314bea    2025-02-12      2025-03-01   \n",
       "26  8a5b02f8caa94917a50da122c74a5c6d    2025-02-09      2025-03-01   \n",
       "27  24f9a8532cef4fb78182d4f347c772d7    2025-02-03      2025-03-01   \n",
       "28  345b493b5fcb476c940bcce20444d64e    2025-02-05      2025-03-01   \n",
       "29  e9fc009e6bbd49a9aaa1499fbe5b7036    2025-02-11      2025-03-01   \n",
       "\n",
       "   final_estancia  precio_noche id_cliente  id_hotel  \n",
       "0      2025-03-02        110.00        ID0        19  \n",
       "1      2025-03-02        172.00        ID1        20  \n",
       "2      2025-03-02        119.96        ID2         0  \n",
       "3      2025-03-02        211.53        ID3         1  \n",
       "4      2025-03-02        378.37        ID4         2  \n",
       "5      2025-03-02         85.45        ID5         3  \n",
       "6      2025-03-02        309.80        ID6         4  \n",
       "7      2025-03-02        119.00        ID7        21  \n",
       "8      2025-03-02        434.88        ID8         5  \n",
       "9      2025-03-02        119.00        ID9        22  \n",
       "10     2025-03-02        216.57       ID10         6  \n",
       "11     2025-03-02        107.00       ID11        23  \n",
       "12     2025-03-02        116.00       ID12        24  \n",
       "13     2025-03-02        378.10       ID13         7  \n",
       "14     2025-03-02        119.00       ID14        22  \n",
       "15     2025-03-02        358.07       ID15         8  \n",
       "16     2025-03-02         90.00       ID16        25  \n",
       "17     2025-03-02         79.77       ID17         9  \n",
       "18     2025-03-02        228.02       ID18        10  \n",
       "19     2025-03-02        385.24       ID19         2  \n",
       "20     2025-03-02        454.01       ID20        11  \n",
       "21     2025-03-02        279.28       ID21         4  \n",
       "22     2025-03-02        332.34       ID22        12  \n",
       "23     2025-03-02        318.14       ID23        10  \n",
       "24     2025-03-02        437.34       ID24        13  \n",
       "25     2025-03-02        387.89       ID25         0  \n",
       "26     2025-03-02        254.17       ID26        14  \n",
       "27     2025-03-02        460.67       ID27         3  \n",
       "28     2025-03-02        218.25       ID28         7  \n",
       "29     2025-03-02        463.31       ID29         0  "
      ]
     },
     "execution_count": 21,
     "metadata": {},
     "output_type": "execute_result"
    }
   ],
   "source": [
    "df_reservas.head(30)"
   ]
  },
  {
   "cell_type": "code",
   "execution_count": 15,
   "metadata": {},
   "outputs": [],
   "source": [
    "d_insert_reservas = []"
   ]
  },
  {
   "cell_type": "code",
   "execution_count": 22,
   "metadata": {},
   "outputs": [
    {
     "ename": "ProgrammingError",
     "evalue": "no results to fetch",
     "output_type": "error",
     "traceback": [
      "\u001b[0;31m---------------------------------------------------------------------------\u001b[0m",
      "\u001b[0;31mProgrammingError\u001b[0m                          Traceback (most recent call last)",
      "Cell \u001b[0;32mIn[22], line 1\u001b[0m\n\u001b[0;32m----> 1\u001b[0m hoteles_dict \u001b[38;5;241m=\u001b[39m \u001b[38;5;28mdict\u001b[39m(\u001b[43mcur\u001b[49m\u001b[38;5;241;43m.\u001b[39;49m\u001b[43mfetchall\u001b[49m\u001b[43m(\u001b[49m\u001b[43m)\u001b[49m)\n",
      "\u001b[0;31mProgrammingError\u001b[0m: no results to fetch"
     ]
    }
   ],
   "source": [
    "hoteles_dict = dict(cur.fetchall())"
   ]
  },
  {
   "cell_type": "code",
   "execution_count": 16,
   "metadata": {},
   "outputs": [],
   "source": [
    "for i, row in df_reservas.iterrows():\n",
    "    id_reserva = row['id_reserva']\n",
    "    fecha_reserva = row['fecha_reserva']\n",
    "    inicio_estancia = row['inicio_estancia']\n",
    "    final_estancia = row['final_estancia']\n",
    "    precio_noche = row['precio_noche']\n",
    "    id_cliente = row['id_cliente']\n",
    "    #id_hotel = row['id_hotel']\n",
    "    id_hotel = hoteles_dict.get(nombre_hotel)\n",
    "\n",
    "    d_insert_reservas.append((id_reserva, fecha_reserva, inicio_estancia, final_estancia, precio_noche, id_cliente, id_hotel))\n"
   ]
  },
  {
   "cell_type": "code",
   "execution_count": 17,
   "metadata": {},
   "outputs": [],
   "source": [
    "query_reservas = \"\"\"\n",
    "    INSERT INTO reservas (id_reserva, fecha_reserva, inicio_estancia, final_estancia, precio_noche, id_cliente, id_hotel)\n",
    "    VALUES (%s, %s, %s, %s, %s, %s, %s)\n",
    "\"\"\""
   ]
  },
  {
   "cell_type": "code",
   "execution_count": 18,
   "metadata": {},
   "outputs": [
    {
     "ename": "ForeignKeyViolation",
     "evalue": "insert or update on table \"reservas\" violates foreign key constraint \"reservas_id_hotel_fkey\"\nDETAIL:  Key (id_hotel)=(0) is not present in table \"hoteles\".\n",
     "output_type": "error",
     "traceback": [
      "\u001b[0;31m---------------------------------------------------------------------------\u001b[0m",
      "\u001b[0;31mForeignKeyViolation\u001b[0m                       Traceback (most recent call last)",
      "Cell \u001b[0;32mIn[18], line 1\u001b[0m\n\u001b[0;32m----> 1\u001b[0m \u001b[43mcur\u001b[49m\u001b[38;5;241;43m.\u001b[39;49m\u001b[43mexecutemany\u001b[49m\u001b[43m(\u001b[49m\u001b[43mquery_reservas\u001b[49m\u001b[43m,\u001b[49m\u001b[43m \u001b[49m\u001b[43md_insert_reservas\u001b[49m\u001b[43m)\u001b[49m\n\u001b[1;32m      2\u001b[0m conn\u001b[38;5;241m.\u001b[39mcommit()\n",
      "\u001b[0;31mForeignKeyViolation\u001b[0m: insert or update on table \"reservas\" violates foreign key constraint \"reservas_id_hotel_fkey\"\nDETAIL:  Key (id_hotel)=(0) is not present in table \"hoteles\".\n"
     ]
    }
   ],
   "source": [
    "cur.executemany(query_reservas, d_insert_reservas)\n",
    "conn.commit()"
   ]
  },
  {
   "cell_type": "code",
   "execution_count": 30,
   "metadata": {},
   "outputs": [],
   "source": [
    "conn.rollback()"
   ]
  },
  {
   "cell_type": "code",
   "execution_count": null,
   "metadata": {},
   "outputs": [],
   "source": [
    "cur.close()\n",
    "conn.close()"
   ]
  }
 ],
 "metadata": {
  "kernelspec": {
   "display_name": "venv",
   "language": "python",
   "name": "python3"
  },
  "language_info": {
   "codemirror_mode": {
    "name": "ipython",
    "version": 3
   },
   "file_extension": ".py",
   "mimetype": "text/x-python",
   "name": "python",
   "nbconvert_exporter": "python",
   "pygments_lexer": "ipython3",
   "version": "3.12.5"
  }
 },
 "nbformat": 4,
 "nbformat_minor": 2
}
